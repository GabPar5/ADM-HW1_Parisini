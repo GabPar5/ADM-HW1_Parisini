{
 "cells": [
  {
   "cell_type": "markdown",
   "id": "87531f02",
   "metadata": {},
   "source": [
    "# Say \"Hello, World!\" with Python"
   ]
  },
  {
   "cell_type": "code",
   "execution_count": 1,
   "id": "27f37d38",
   "metadata": {},
   "outputs": [
    {
     "name": "stdout",
     "output_type": "stream",
     "text": [
      "Hello, World!\n"
     ]
    }
   ],
   "source": [
    "print(\"Hello, World!\")"
   ]
  },
  {
   "cell_type": "markdown",
   "id": "2f3aa170",
   "metadata": {},
   "source": [
    "# Python If-Else"
   ]
  },
  {
   "cell_type": "code",
   "execution_count": 2,
   "id": "7db0f0ca",
   "metadata": {},
   "outputs": [
    {
     "name": "stdout",
     "output_type": "stream",
     "text": [
      "3\n",
      "Weird\n"
     ]
    }
   ],
   "source": [
    "n = int(input().strip())\n",
    "if n % 2 == 0:\n",
    "    if n >= 2 and n <= 5:\n",
    "        print(\"Not Weird\")\n",
    "    elif n >= 6 and n <= 20:\n",
    "        print(\"Weird\")\n",
    "    else:\n",
    "        print(\"Not Weird\")\n",
    "else:\n",
    "    print(\"Weird\")"
   ]
  },
  {
   "cell_type": "markdown",
   "id": "75c86c31",
   "metadata": {},
   "source": [
    "# Arithmetic Operators"
   ]
  },
  {
   "cell_type": "code",
   "execution_count": 3,
   "id": "e4513a15",
   "metadata": {},
   "outputs": [
    {
     "name": "stdout",
     "output_type": "stream",
     "text": [
      "3\n",
      "3\n",
      "6\n",
      "0\n",
      "9\n"
     ]
    }
   ],
   "source": [
    "a = int(input())\n",
    "b = int(input())\n",
    "print(a+b)\n",
    "print(a-b)\n",
    "print(a*b)"
   ]
  },
  {
   "cell_type": "markdown",
   "id": "f65a9f5a",
   "metadata": {},
   "source": [
    "# Python: Division"
   ]
  },
  {
   "cell_type": "code",
   "execution_count": null,
   "id": "08e998d5",
   "metadata": {},
   "outputs": [],
   "source": [
    "a = int(input())\n",
    "b = int(input())\n",
    "print(a//b)\n",
    "print(a/b)"
   ]
  },
  {
   "cell_type": "markdown",
   "id": "b079a317",
   "metadata": {},
   "source": [
    "# Loops"
   ]
  },
  {
   "cell_type": "code",
   "execution_count": null,
   "id": "6e40aec6",
   "metadata": {},
   "outputs": [],
   "source": [
    "n = int(input())\n",
    "for i in range(n):\n",
    "    if i<n:\n",
    "        print(i**2)"
   ]
  },
  {
   "cell_type": "markdown",
   "id": "ed110237",
   "metadata": {},
   "source": [
    "# Write a function"
   ]
  },
  {
   "cell_type": "code",
   "execution_count": null,
   "id": "9b3b654b",
   "metadata": {},
   "outputs": [],
   "source": [
    "def is_leap(year):\n",
    "    leap = False\n",
    "    \n",
    "    if year % 4 == 0:\n",
    "        leap = True\n",
    "        if year % 100 == 0:\n",
    "            leap = False\n",
    "            if year % 400 == 0:\n",
    "                leap = True\n",
    "    \n",
    "return leap"
   ]
  },
  {
   "cell_type": "markdown",
   "id": "d2ec6917",
   "metadata": {},
   "source": [
    "# Print function"
   ]
  },
  {
   "cell_type": "code",
   "execution_count": null,
   "id": "6618b5c2",
   "metadata": {},
   "outputs": [],
   "source": []
  }
 ],
 "metadata": {
  "kernelspec": {
   "display_name": "Python 3 (ipykernel)",
   "language": "python",
   "name": "python3"
  },
  "language_info": {
   "codemirror_mode": {
    "name": "ipython",
    "version": 3
   },
   "file_extension": ".py",
   "mimetype": "text/x-python",
   "name": "python",
   "nbconvert_exporter": "python",
   "pygments_lexer": "ipython3",
   "version": "3.9.16"
  }
 },
 "nbformat": 4,
 "nbformat_minor": 5
}
