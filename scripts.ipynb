{
 "cells": [
  {
   "cell_type": "markdown",
   "id": "87531f02",
   "metadata": {},
   "source": [
    "# Say \"Hello, World!\" with Python"
   ]
  },
  {
   "cell_type": "code",
   "execution_count": 1,
   "id": "27f37d38",
   "metadata": {},
   "outputs": [
    {
     "name": "stdout",
     "output_type": "stream",
     "text": [
      "Hello, World!\n"
     ]
    }
   ],
   "source": [
    "print(\"Hello, World!\")"
   ]
  },
  {
   "cell_type": "markdown",
   "id": "2f3aa170",
   "metadata": {},
   "source": [
    "# Python If-Else"
   ]
  },
  {
   "cell_type": "code",
   "execution_count": 2,
   "id": "7db0f0ca",
   "metadata": {},
   "outputs": [
    {
     "name": "stdout",
     "output_type": "stream",
     "text": [
      "3\n",
      "Weird\n"
     ]
    }
   ],
   "source": [
    "n = int(input().strip())\n",
    "if n % 2 == 0:\n",
    "    if n >= 2 and n <= 5:\n",
    "        print(\"Not Weird\")\n",
    "    elif n >= 6 and n <= 20:\n",
    "        print(\"Weird\")\n",
    "    else:\n",
    "        print(\"Not Weird\")\n",
    "else:\n",
    "    print(\"Weird\")"
   ]
  },
  {
   "cell_type": "markdown",
   "id": "75c86c31",
   "metadata": {},
   "source": [
    "# Arithmetic Operators"
   ]
  },
  {
   "cell_type": "code",
   "execution_count": 3,
   "id": "e4513a15",
   "metadata": {},
   "outputs": [
    {
     "name": "stdout",
     "output_type": "stream",
     "text": [
      "3\n",
      "3\n",
      "6\n",
      "0\n",
      "9\n"
     ]
    }
   ],
   "source": [
    "a = int(input())\n",
    "b = int(input())\n",
    "print(a+b)\n",
    "print(a-b)\n",
    "print(a*b)"
   ]
  },
  {
   "cell_type": "markdown",
   "id": "f65a9f5a",
   "metadata": {},
   "source": [
    "# Python: Division"
   ]
  },
  {
   "cell_type": "code",
   "execution_count": null,
   "id": "08e998d5",
   "metadata": {},
   "outputs": [],
   "source": [
    "a = int(input())\n",
    "b = int(input())\n",
    "print(a//b)\n",
    "print(a/b)"
   ]
  },
  {
   "cell_type": "markdown",
   "id": "b079a317",
   "metadata": {},
   "source": [
    "# Loops"
   ]
  },
  {
   "cell_type": "code",
   "execution_count": null,
   "id": "6e40aec6",
   "metadata": {},
   "outputs": [],
   "source": [
    "n = int(input())\n",
    "for i in range(n):\n",
    "    if i<n:\n",
    "        print(i**2)"
   ]
  },
  {
   "cell_type": "markdown",
   "id": "ed110237",
   "metadata": {},
   "source": [
    "# Write a function"
   ]
  },
  {
   "cell_type": "code",
   "execution_count": null,
   "id": "9b3b654b",
   "metadata": {},
   "outputs": [],
   "source": [
    "def is_leap(year):\n",
    "    leap = False\n",
    "    \n",
    "    if year % 4 == 0:\n",
    "        leap = True\n",
    "        if year % 100 == 0:\n",
    "            leap = False\n",
    "            if year % 400 == 0:\n",
    "                leap = True\n",
    "    \n",
    "return leap"
   ]
  },
  {
   "cell_type": "markdown",
   "id": "d2ec6917",
   "metadata": {},
   "source": [
    "# Print function"
   ]
  },
  {
   "cell_type": "code",
   "execution_count": 12,
   "id": "6618b5c2",
   "metadata": {},
   "outputs": [
    {
     "data": {
      "text/plain": [
       "range(1, 10)"
      ]
     },
     "execution_count": 12,
     "metadata": {},
     "output_type": "execute_result"
    }
   ],
   "source": [
    "n = int(input())\n",
    "for i in range(1,n+1):\n",
    "    print(i, end = '')"
   ]
  },
  {
   "cell_type": "markdown",
   "id": "25f300f8",
   "metadata": {},
   "source": [
    "# List comprehensions"
   ]
  },
  {
   "cell_type": "code",
   "execution_count": null,
   "id": "34487198",
   "metadata": {},
   "outputs": [],
   "source": [
    "x = int(input())\n",
    "y = int(input())\n",
    "z = int(input())\n",
    "n = int(input())\n",
    "coords = []\n",
    "for i in range(x+1):\n",
    "    for j in range(y+1):\n",
    "        for k in range(z+1):\n",
    "            if i+j+k != n:\n",
    "                coords.append([i,j,k])\n",
    "print(coords)"
   ]
  },
  {
   "cell_type": "markdown",
   "id": "2b6bfb95",
   "metadata": {},
   "source": [
    "# Find the Runner-Up score!"
   ]
  },
  {
   "cell_type": "code",
   "execution_count": null,
   "id": "bc9be960",
   "metadata": {},
   "outputs": [],
   "source": [
    "n = int(input())\n",
    "arr = map(int, input().split())\n",
    "scoreset = set(arr)\n",
    "m = len(scoreset)\n",
    "unique_scores = list(scoreset)\n",
    "unique_scores.sort()\n",
    "print(unique_scores[m-2])"
   ]
  },
  {
   "cell_type": "markdown",
   "id": "297fef1d",
   "metadata": {},
   "source": [
    "# Nested lists"
   ]
  },
  {
   "cell_type": "code",
   "execution_count": null,
   "id": "e3833c66",
   "metadata": {},
   "outputs": [],
   "source": [
    "records = []\n",
    "scores = []\n",
    "for _ in range(int(input())):\n",
    "    name = input()\n",
    "    score = float(input())\n",
    "    records.append([name,score])\n",
    "    scores.append(score)\n",
    "scoreset = set(scores)\n",
    "unique_scores = list(scoreset)\n",
    "unique_scores.sort()\n",
    "stud = []\n",
    "for x in records:\n",
    "    if x[1] == unique_scores[1]:\n",
    "        stud.append(x[0])\n",
    "stud.sort()\n",
    "for i in range(len(stud)):\n",
    "    print(stud[i])"
   ]
  },
  {
   "cell_type": "markdown",
   "id": "41b84152",
   "metadata": {},
   "source": [
    "# Finding the percentage"
   ]
  },
  {
   "cell_type": "code",
   "execution_count": null,
   "id": "c1b44509",
   "metadata": {},
   "outputs": [],
   "source": [
    "n = int(input())\n",
    "student_marks = {}\n",
    "for _ in range(n):\n",
    "    name, *line = input().split()\n",
    "    scores = list(map(float, line))\n",
    "    student_marks[name] = scores\n",
    "query_name = input()\n",
    "mean = round(sum(student_marks[query_name])/len(student_marks[query_name]),2)\n",
    "print(\"{:.2f}\".format(mean))\n",
    "# tutorial was needed for the last line of code"
   ]
  },
  {
   "cell_type": "markdown",
   "id": "b6aee479",
   "metadata": {},
   "source": [
    "# Lists"
   ]
  },
  {
   "cell_type": "code",
   "execution_count": null,
   "id": "8de63505",
   "metadata": {},
   "outputs": [],
   "source": [
    "N = int(input())\n",
    "commands = []\n",
    "final = []\n",
    "for i in range(N):\n",
    "    commands.append(input())\n",
    "for x in commands:\n",
    "    comm = x.split()\n",
    "    if comm[0] == \"insert\":\n",
    "        final.insert(int(comm[1]),int(comm[2]))\n",
    "    elif comm[0] == \"print\":\n",
    "        print(final)\n",
    "    elif comm[0] == \"remove\":\n",
    "        final.remove(int(comm[1]))\n",
    "    elif comm[0] == \"append\":\n",
    "        final.append(int(comm[1]))\n",
    "    elif comm[0] == \"sort\":\n",
    "        final.sort()\n",
    "    elif comm[0] == \"pop\":\n",
    "        final.pop()\n",
    "    elif comm[0] == \"reverse\":\n",
    "        final.reverse()"
   ]
  },
  {
   "cell_type": "markdown",
   "id": "1f0387ef",
   "metadata": {},
   "source": [
    "# Tuples"
   ]
  },
  {
   "cell_type": "code",
   "execution_count": null,
   "id": "121877b3",
   "metadata": {},
   "outputs": [],
   "source": [
    "n = int(input())\n",
    "integer_list = map(int, input().split())\n",
    "tup = tuple(integer_list)\n",
    "print(hash(tup))"
   ]
  },
  {
   "cell_type": "markdown",
   "id": "a98d017a",
   "metadata": {},
   "source": [
    "# sWAP cASE"
   ]
  },
  {
   "cell_type": "code",
   "execution_count": null,
   "id": "9d3fcf55",
   "metadata": {},
   "outputs": [],
   "source": [
    "def swap_case(s):\n",
    "    final = \"\"\n",
    "    for i in range(len(s)):\n",
    "        if s[i] == s[i].upper():\n",
    "            final += s[i].lower()\n",
    "        elif s[i] == s[i].lower():\n",
    "            final += s[i].upper()\n",
    "    return final"
   ]
  },
  {
   "cell_type": "markdown",
   "id": "11c7a3c2",
   "metadata": {},
   "source": [
    "# String Split and Join"
   ]
  },
  {
   "cell_type": "code",
   "execution_count": null,
   "id": "d9690482",
   "metadata": {},
   "outputs": [],
   "source": [
    "def split_and_join(line):\n",
    "    line = line.split(\" \")\n",
    "    line = \"-\".join(line)\n",
    "    return line"
   ]
  },
  {
   "cell_type": "markdown",
   "id": "50d7ca72",
   "metadata": {},
   "source": [
    "# What's your name?"
   ]
  },
  {
   "cell_type": "code",
   "execution_count": null,
   "id": "19196544",
   "metadata": {},
   "outputs": [],
   "source": [
    "def print_full_name(first, last):\n",
    "    print(\"Hello\", first, last + \"! You just delved into python.\")"
   ]
  },
  {
   "cell_type": "markdown",
   "id": "a28c16c2",
   "metadata": {},
   "source": [
    "# Mutation"
   ]
  },
  {
   "cell_type": "code",
   "execution_count": null,
   "id": "7ba7fbbe",
   "metadata": {},
   "outputs": [],
   "source": [
    "def mutate_string(string, position, character):\n",
    "    l = list(string)\n",
    "    l[position] = character\n",
    "    return ''.join(l)"
   ]
  },
  {
   "cell_type": "markdown",
   "id": "229cf591",
   "metadata": {},
   "source": [
    "# Find a string"
   ]
  },
  {
   "cell_type": "code",
   "execution_count": null,
   "id": "17f418ac",
   "metadata": {},
   "outputs": [],
   "source": [
    "def count_substring(string, sub_string):\n",
    "    count = 0\n",
    "    for i in range(0, len(string)-len(sub_string)+1):\n",
    "        if sub_string in string[i:i+len(sub_string)]:\n",
    "            count += 1\n",
    "    return str(count)"
   ]
  },
  {
   "cell_type": "markdown",
   "id": "39b9800e",
   "metadata": {},
   "source": [
    "# String Validators"
   ]
  },
  {
   "cell_type": "code",
   "execution_count": null,
   "id": "21a12354",
   "metadata": {},
   "outputs": [],
   "source": [
    "s = input()\n",
    "print(any([x.isalnum() for x in s]))\n",
    "print(any([x.isalpha() for x in s]))\n",
    "print(any([x.isdigit() for x in s]))\n",
    "print(any([x.islower() for x in s]))\n",
    "print(any([x.isupper() for x in s]))"
   ]
  },
  {
   "cell_type": "markdown",
   "id": "aba5df79",
   "metadata": {},
   "source": [
    "# Text Alignment"
   ]
  },
  {
   "cell_type": "code",
   "execution_count": null,
   "id": "830b0766",
   "metadata": {},
   "outputs": [],
   "source": [
    "w = int(input())\n",
    "c = 'H'\n",
    "# higher arrow\n",
    "for i in range(1,w*2,2):\n",
    "    x = c*i\n",
    "    print(x.center(w*2, ' '))\n",
    "# higher body\n",
    "for i in range(1,w+2):\n",
    "    x = c*w\n",
    "    print(x.center(w*2, ' '), end = ' '*w*2)\n",
    "    print(x.center(w*2, ' '))\n",
    "# center belt\n",
    "for i in range(0,w,2):\n",
    "    x = c*w*5\n",
    "    print(x.center(w*6, ' '))\n",
    "# lower body\n",
    "for i in range(1,w+2):\n",
    "    x = c*w\n",
    "    print(x.center(w*2, ' '), end = ' '*w*2)\n",
    "    print(x.center(w*2, ' '))\n",
    "# lower arrow\n",
    "j = 1\n",
    "for i in range(w*2-1,0,-2):\n",
    "    x = c*i\n",
    "    print(x.rjust(w*6-j, ' '))\n",
    "    j += 1\n",
    "# I've searched for a little hint on the internet to solve it, \n",
    "# because the objective wasn't clear enough"
   ]
  },
  {
   "cell_type": "markdown",
   "id": "091b00fb",
   "metadata": {},
   "source": [
    "# Text Wrap"
   ]
  },
  {
   "cell_type": "code",
   "execution_count": null,
   "id": "a0189453",
   "metadata": {},
   "outputs": [],
   "source": [
    "def wrap(string, max_width):\n",
    "    l = list(string)\n",
    "    c=0\n",
    "    for i in range(len(l)):\n",
    "        if (i+1)%max_width == 0:\n",
    "            l.insert(i+c+1,\"\\n\")\n",
    "            c += 1\n",
    "    return ''.join(l)"
   ]
  },
  {
   "cell_type": "markdown",
   "id": "fa7790bf",
   "metadata": {},
   "source": [
    "# Designer door mat"
   ]
  },
  {
   "cell_type": "code",
   "execution_count": null,
   "id": "e52bfe39",
   "metadata": {},
   "outputs": [],
   "source": [
    "d = input()\n",
    "d = d.split()\n",
    "n =  int(d[0])\n",
    "m = int(d[1])\n",
    "h = '-'\n",
    "b = '|'\n",
    "p = '.'\n",
    "# top half\n",
    "for i in range(1,n//2+1):\n",
    "    x = p\n",
    "    for j in range(1,i*2):\n",
    "        x = x+b+p+p\n",
    "    x = x[:-1]\n",
    "    print(x.center(m,'-'))\n",
    "# welcome \n",
    "print('WELCOME'.center(m,'-'))\n",
    "# bottom half\n",
    "for i in range(n//2+1,1,-1):\n",
    "    x = p\n",
    "    for j in range(1,i*2-2):\n",
    "        x = x+b+p+p\n",
    "    x = x[:-1]\n",
    "    print(x.center(m,'-'))"
   ]
  },
  {
   "cell_type": "markdown",
   "id": "f76b9212",
   "metadata": {},
   "source": [
    "# String formatting"
   ]
  },
  {
   "cell_type": "code",
   "execution_count": null,
   "id": "748d6602",
   "metadata": {},
   "outputs": [],
   "source": [
    "def print_formatted(number):\n",
    "    w = len(bin(number).lstrip(\"0b\"))\n",
    "    for i in range(1,number+1):\n",
    "        print(str(i).rjust(w,' '), end = ' ')\n",
    "        print(str(oct(i)).lstrip(\"0o\").rjust(w,' '), end = ' ')\n",
    "        print(str(hex(i)).lstrip(\"0x\").upper().rjust(w,' '), end = ' ')\n",
    "        print(str(bin(i)).lstrip(\"0b\").rjust(w,' '))"
   ]
  },
  {
   "cell_type": "markdown",
   "id": "38fbd401",
   "metadata": {},
   "source": [
    "# Alphabet Rangoli"
   ]
  },
  {
   "cell_type": "code",
   "execution_count": null,
   "id": "7687f2d9",
   "metadata": {},
   "outputs": [],
   "source": [
    "def print_rangoli(size):\n",
    "    alph = ['a', 'b', 'c', 'd', 'e', 'f', 'g', 'h', 'i', 'j', 'k', 'l', 'm', 'n', 'o', 'p', 'q', 'r', 's', 't', 'u', 'v', 'w', 'x', 'y', 'z']\n",
    "    h = '-'\n",
    "    w = (size-1)*4 + 1\n",
    "    # top half\n",
    "    for i in range(1, size):\n",
    "        x = alph[size-1]\n",
    "        for j in range(1,i):\n",
    "            x = x+h+alph[size-j-1]\n",
    "        cut = x[:-1]\n",
    "        x = x + cut[::-1]\n",
    "        print(x.center(w,h))\n",
    "    # bottom half\n",
    "    for i in range(size, 0,-1):\n",
    "        x = alph[size-1]\n",
    "        for j in range(1,i):\n",
    "            x = x+h+alph[size-j-1]\n",
    "        cut = x[:-1]\n",
    "        x = x + cut[::-1]\n",
    "        print(x.center(w,h))"
   ]
  },
  {
   "cell_type": "markdown",
   "id": "801cf839",
   "metadata": {},
   "source": [
    "# Capitalize!"
   ]
  },
  {
   "cell_type": "code",
   "execution_count": null,
   "id": "373c577a",
   "metadata": {},
   "outputs": [],
   "source": [
    "def solve(s):\n",
    "    l = list(s)\n",
    "    l[0] = l[0].upper()\n",
    "    for i in range(1,len(l)):\n",
    "        if l[i-1].isspace() and (not l[i].isspace()):\n",
    "            l[i] = l[i].upper()\n",
    "    return ''.join(l)"
   ]
  },
  {
   "cell_type": "markdown",
   "id": "9f2b613f",
   "metadata": {},
   "source": [
    "# The Minion Game"
   ]
  },
  {
   "cell_type": "code",
   "execution_count": null,
   "id": "941de05b",
   "metadata": {},
   "outputs": [],
   "source": [
    "def minion_game(string):\n",
    "    vowels = ['A','E','I','O','U']\n",
    "    st_score = 0\n",
    "    kv_score = 0\n",
    "    for i in range(len(string)):\n",
    "        if string[i] in vowels:\n",
    "            # Adding as much points as are possible substrings starting from the i-th letter\n",
    "            kv_score += len(string)-i\n",
    "        else:\n",
    "            st_score += len(string)-i\n",
    "    if st_score > kv_score:\n",
    "        print('Stuart', str(st_score))\n",
    "    elif kv_score > st_score:\n",
    "        print('Kevin', str(kv_score))\n",
    "    else:\n",
    "        print('Draw')\n",
    "# Solution seen because the algorithm developed was too slow\n",
    "# for three tests (analyzing every substring)"
   ]
  },
  {
   "cell_type": "markdown",
   "id": "1248f776",
   "metadata": {},
   "source": [
    "# Merge the tools!"
   ]
  },
  {
   "cell_type": "code",
   "execution_count": null,
   "id": "af3a7c86",
   "metadata": {},
   "outputs": [],
   "source": [
    "def merge_the_tools(string, k):\n",
    "    for i in range(0,len(string)//k):\n",
    "        print(''.join(list(set(string[k*i:k*(i+1)]))))"
   ]
  },
  {
   "cell_type": "markdown",
   "id": "826ae70f",
   "metadata": {},
   "source": [
    "# Introduction to Sets"
   ]
  },
  {
   "cell_type": "code",
   "execution_count": null,
   "id": "aa87e38f",
   "metadata": {},
   "outputs": [],
   "source": [
    "def average(array):\n",
    "    h = set(array)\n",
    "    n = len(h)\n",
    "    return sum(h)/n"
   ]
  },
  {
   "cell_type": "markdown",
   "id": "bd703d12",
   "metadata": {},
   "source": [
    "# No Idea!"
   ]
  },
  {
   "cell_type": "code",
   "execution_count": null,
   "id": "ce99f490",
   "metadata": {},
   "outputs": [],
   "source": [
    "v = input()\n",
    "n = int(v.split()[0])\n",
    "m = int(v.split()[1])\n",
    "l = list(input().split())\n",
    "A = set(input().split())\n",
    "B = set(input().split())\n",
    "happ = 0\n",
    "for x in l:\n",
    "    if x in A:\n",
    "        happ += 1\n",
    "    elif x in B:\n",
    "        happ -= 1\n",
    "print(happ)"
   ]
  },
  {
   "cell_type": "markdown",
   "id": "3facb575",
   "metadata": {},
   "source": [
    "# Symmetric difference"
   ]
  },
  {
   "cell_type": "code",
   "execution_count": null,
   "id": "e6e14028",
   "metadata": {},
   "outputs": [],
   "source": [
    "m = int(input())\n",
    "sm = set(map(int, input().split()))\n",
    "n = int(input())\n",
    "sn = set(map(int, input().split()))\n",
    "union_mn = list(sm.union(sn))\n",
    "union_mn.sort()\n",
    "inters_mn = sm.intersection(sn)\n",
    "for i in range(len(union_mn)):\n",
    "    if union_mn[i] not in inters_mn:\n",
    "        print(str(union_mn[i]))"
   ]
  },
  {
   "cell_type": "markdown",
   "id": "b204ffd5",
   "metadata": {},
   "source": [
    "# Set .add()"
   ]
  },
  {
   "cell_type": "code",
   "execution_count": null,
   "id": "b40aa6ed",
   "metadata": {},
   "outputs": [],
   "source": [
    "n = int(input())\n",
    "countries = set()\n",
    "for i in range(n):\n",
    "    countries.add(input())\n",
    "print(len(countries))"
   ]
  },
  {
   "cell_type": "markdown",
   "id": "9523af18",
   "metadata": {},
   "source": [
    "# Set.discard(), .remove() & .pop()"
   ]
  },
  {
   "cell_type": "code",
   "execution_count": null,
   "id": "483eb36f",
   "metadata": {},
   "outputs": [],
   "source": [
    "n = int(input())\n",
    "s = set(map(int, input().split()))\n",
    "m = int(input())\n",
    "for i in range(m):\n",
    "    command = input().split()\n",
    "    if command[0] == 'remove' and int(command[1]) in s:\n",
    "        s.remove(int(command[1]))\n",
    "    elif command[0] == \"discard\":\n",
    "        s.discard(int(command[1]))\n",
    "    elif command[0] == \"pop\":\n",
    "        s.pop()\n",
    "print(sum(s))"
   ]
  },
  {
   "cell_type": "markdown",
   "id": "b658b761",
   "metadata": {},
   "source": [
    "# Set .union() operation"
   ]
  },
  {
   "cell_type": "code",
   "execution_count": null,
   "id": "1547ea40",
   "metadata": {},
   "outputs": [],
   "source": [
    "ne = int(input())\n",
    "e = set(map(int,input().split()))\n",
    "nf = int(input())\n",
    "f = set(map(int,input().split()))\n",
    "union_ef = e.union(f)\n",
    "print(len(union_ef))"
   ]
  },
  {
   "cell_type": "markdown",
   "id": "5451cbee",
   "metadata": {},
   "source": [
    "# Set .intersection() operation"
   ]
  },
  {
   "cell_type": "code",
   "execution_count": null,
   "id": "6f85f227",
   "metadata": {},
   "outputs": [],
   "source": [
    "ne = int(input())\n",
    "e = set(map(int,input().split()))\n",
    "nf = int(input())\n",
    "f = set(map(int,input().split()))\n",
    "inters_ef = e.intersection(f)\n",
    "print(len(inters_ef))"
   ]
  },
  {
   "cell_type": "markdown",
   "id": "59b6f20a",
   "metadata": {},
   "source": [
    "# Set .difference() operation"
   ]
  },
  {
   "cell_type": "code",
   "execution_count": null,
   "id": "60e00eb0",
   "metadata": {},
   "outputs": [],
   "source": [
    "ne = int(input())\n",
    "e = set(map(int,input().split()))\n",
    "nf = int(input())\n",
    "f = set(map(int,input().split()))\n",
    "diff_ef = e.difference(f)\n",
    "print(len(diff_ef))"
   ]
  },
  {
   "cell_type": "markdown",
   "id": "0cca4404",
   "metadata": {},
   "source": [
    "# Set .symmetric_difference() operation"
   ]
  },
  {
   "cell_type": "code",
   "execution_count": null,
   "id": "e74f3934",
   "metadata": {},
   "outputs": [],
   "source": [
    "ne = int(input())\n",
    "e = set(map(int,input().split()))\n",
    "nf = int(input())\n",
    "f = set(map(int,input().split()))\n",
    "sdiff_ef = e.symmetric_difference(f)\n",
    "print(len(sdiff_ef))"
   ]
  },
  {
   "cell_type": "markdown",
   "id": "0ab05a7a",
   "metadata": {},
   "source": [
    "# Set mutations"
   ]
  },
  {
   "cell_type": "code",
   "execution_count": null,
   "id": "5c29421a",
   "metadata": {},
   "outputs": [],
   "source": [
    "# you can use all set operations to mutate sets on place by adding \"_update\"\n",
    "na = int(input())\n",
    "a = set(map(int, input().split()))\n",
    "n = int(input())\n",
    "for i in range(1,(n*2)+1):\n",
    "    if i % 2 == 1:\n",
    "        command = input().split()[0]\n",
    "    else:\n",
    "        b = set(map(int, input().split()))\n",
    "        if command == \"intersection_update\":\n",
    "            a.intersection_update(b)\n",
    "        elif command == \"update\":\n",
    "            a.update(b)\n",
    "        elif command == \"symmetric_difference_update\":\n",
    "            a.symmetric_difference_update(b)\n",
    "        elif command == \"difference_update\":\n",
    "            a.difference_update(b)\n",
    "print(sum(a))"
   ]
  },
  {
   "cell_type": "markdown",
   "id": "482ae586",
   "metadata": {},
   "source": [
    "# The Captain's Room"
   ]
  },
  {
   "cell_type": "code",
   "execution_count": null,
   "id": "02be1ae6",
   "metadata": {},
   "outputs": [],
   "source": [
    "k = int(input())\n",
    "l = list(map(int,input().split()))\n",
    "s = set(l)\n",
    "d = [{\"name\":val, \"count\":0} for val in s]\n",
    "for i in range(len(l)):\n",
    "    for j in d:\n",
    "        if j[\"name\"] == l[i]:\n",
    "            j[\"count\"] += 1\n",
    "            if j[\"count\"] > 1:\n",
    "                d.remove(j)\n",
    "                if len(d) == 1:\n",
    "                    break\n",
    "    else:\n",
    "        continue\n",
    "    break\n",
    "print(d[0][\"name\"])"
   ]
  },
  {
   "cell_type": "markdown",
   "id": "9e67f2b5",
   "metadata": {},
   "source": [
    "# Check Subset"
   ]
  },
  {
   "cell_type": "code",
   "execution_count": null,
   "id": "8b04975f",
   "metadata": {},
   "outputs": [],
   "source": [
    "n = int(input())\n",
    "for i in range(n):\n",
    "    na = int(input())\n",
    "    a = set(map(int,input().split()))\n",
    "    nb = int(input())\n",
    "    b = set(map(int,input().split()))\n",
    "    if a.union(b) == b:\n",
    "        print(True)\n",
    "    else:\n",
    "        print(False)"
   ]
  },
  {
   "cell_type": "markdown",
   "id": "0b7bf4d6",
   "metadata": {},
   "source": [
    "# Check strict Superset"
   ]
  },
  {
   "cell_type": "code",
   "execution_count": null,
   "id": "79736853",
   "metadata": {},
   "outputs": [],
   "source": [
    "a = set(map(int,input().split()))\n",
    "n = int(input())\n",
    "print(all(a > set(map(int,input().split())) for i in range(n)))"
   ]
  },
  {
   "cell_type": "markdown",
   "id": "145d48d3",
   "metadata": {},
   "source": [
    "# "
   ]
  },
  {
   "cell_type": "code",
   "execution_count": null,
   "id": "0c272813",
   "metadata": {},
   "outputs": [],
   "source": []
  },
  {
   "cell_type": "markdown",
   "id": "99e6dd5d",
   "metadata": {},
   "source": [
    "# ginortS"
   ]
  },
  {
   "cell_type": "code",
   "execution_count": null,
   "id": "6218639e",
   "metadata": {},
   "outputs": [],
   "source": []
  }
 ],
 "metadata": {
  "kernelspec": {
   "display_name": "Python 3 (ipykernel)",
   "language": "python",
   "name": "python3"
  },
  "language_info": {
   "codemirror_mode": {
    "name": "ipython",
    "version": 3
   },
   "file_extension": ".py",
   "mimetype": "text/x-python",
   "name": "python",
   "nbconvert_exporter": "python",
   "pygments_lexer": "ipython3",
   "version": "3.9.16"
  }
 },
 "nbformat": 4,
 "nbformat_minor": 5
}
