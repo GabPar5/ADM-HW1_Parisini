{
 "cells": [
  {
   "cell_type": "markdown",
   "id": "87531f02",
   "metadata": {},
   "source": [
    "# Say \"Hello, World!\" with Python"
   ]
  },
  {
   "cell_type": "code",
   "execution_count": 1,
   "id": "27f37d38",
   "metadata": {},
   "outputs": [
    {
     "name": "stdout",
     "output_type": "stream",
     "text": [
      "Hello, World!\n"
     ]
    }
   ],
   "source": [
    "print(\"Hello, World!\")"
   ]
  },
  {
   "cell_type": "markdown",
   "id": "2f3aa170",
   "metadata": {},
   "source": [
    "# Python If-Else"
   ]
  },
  {
   "cell_type": "code",
   "execution_count": 2,
   "id": "7db0f0ca",
   "metadata": {},
   "outputs": [
    {
     "name": "stdout",
     "output_type": "stream",
     "text": [
      "3\n",
      "Weird\n"
     ]
    }
   ],
   "source": [
    "n = int(input().strip())\n",
    "if n % 2 == 0:\n",
    "    if n >= 2 and n <= 5:\n",
    "        print(\"Not Weird\")\n",
    "    elif n >= 6 and n <= 20:\n",
    "        print(\"Weird\")\n",
    "    else:\n",
    "        print(\"Not Weird\")\n",
    "else:\n",
    "    print(\"Weird\")"
   ]
  },
  {
   "cell_type": "markdown",
   "id": "75c86c31",
   "metadata": {},
   "source": [
    "# Arithmetic Operators"
   ]
  },
  {
   "cell_type": "code",
   "execution_count": 3,
   "id": "e4513a15",
   "metadata": {},
   "outputs": [
    {
     "name": "stdout",
     "output_type": "stream",
     "text": [
      "3\n",
      "3\n",
      "6\n",
      "0\n",
      "9\n"
     ]
    }
   ],
   "source": [
    "a = int(input())\n",
    "b = int(input())\n",
    "print(a+b)\n",
    "print(a-b)\n",
    "print(a*b)"
   ]
  },
  {
   "cell_type": "markdown",
   "id": "f65a9f5a",
   "metadata": {},
   "source": [
    "# Python: Division"
   ]
  },
  {
   "cell_type": "code",
   "execution_count": null,
   "id": "08e998d5",
   "metadata": {},
   "outputs": [],
   "source": [
    "a = int(input())\n",
    "b = int(input())\n",
    "print(a//b)\n",
    "print(a/b)"
   ]
  },
  {
   "cell_type": "markdown",
   "id": "b079a317",
   "metadata": {},
   "source": [
    "# Loops"
   ]
  },
  {
   "cell_type": "code",
   "execution_count": null,
   "id": "6e40aec6",
   "metadata": {},
   "outputs": [],
   "source": [
    "n = int(input())\n",
    "for i in range(n):\n",
    "    if i<n:\n",
    "        print(i**2)"
   ]
  },
  {
   "cell_type": "markdown",
   "id": "ed110237",
   "metadata": {},
   "source": [
    "# Write a function"
   ]
  },
  {
   "cell_type": "code",
   "execution_count": null,
   "id": "9b3b654b",
   "metadata": {},
   "outputs": [],
   "source": [
    "def is_leap(year):\n",
    "    leap = False\n",
    "    \n",
    "    if year % 4 == 0:\n",
    "        leap = True\n",
    "        if year % 100 == 0:\n",
    "            leap = False\n",
    "            if year % 400 == 0:\n",
    "                leap = True\n",
    "    \n",
    "return leap"
   ]
  },
  {
   "cell_type": "markdown",
   "id": "d2ec6917",
   "metadata": {},
   "source": [
    "# Print function"
   ]
  },
  {
   "cell_type": "code",
   "execution_count": 12,
   "id": "6618b5c2",
   "metadata": {},
   "outputs": [
    {
     "data": {
      "text/plain": [
       "range(1, 10)"
      ]
     },
     "execution_count": 12,
     "metadata": {},
     "output_type": "execute_result"
    }
   ],
   "source": [
    "n = int(input())\n",
    "for i in range(1,n+1):\n",
    "    print(i, end = '')"
   ]
  },
  {
   "cell_type": "markdown",
   "id": "25f300f8",
   "metadata": {},
   "source": [
    "# List comprehensions"
   ]
  },
  {
   "cell_type": "code",
   "execution_count": null,
   "id": "34487198",
   "metadata": {},
   "outputs": [],
   "source": [
    "x = int(input())\n",
    "y = int(input())\n",
    "z = int(input())\n",
    "n = int(input())\n",
    "coords = []\n",
    "for i in range(x+1):\n",
    "    for j in range(y+1):\n",
    "        for k in range(z+1):\n",
    "            if i+j+k != n:\n",
    "                coords.append([i,j,k])\n",
    "print(coords)"
   ]
  },
  {
   "cell_type": "markdown",
   "id": "2b6bfb95",
   "metadata": {},
   "source": [
    "# Find the Runner-Up score!"
   ]
  },
  {
   "cell_type": "code",
   "execution_count": null,
   "id": "bc9be960",
   "metadata": {},
   "outputs": [],
   "source": [
    "n = int(input())\n",
    "arr = map(int, input().split())\n",
    "scoreset = set(arr)\n",
    "m = len(scoreset)\n",
    "unique_scores = list(scoreset)\n",
    "unique_scores.sort()\n",
    "print(unique_scores[m-2])"
   ]
  },
  {
   "cell_type": "markdown",
   "id": "297fef1d",
   "metadata": {},
   "source": [
    "# Nested lists"
   ]
  },
  {
   "cell_type": "code",
   "execution_count": null,
   "id": "e3833c66",
   "metadata": {},
   "outputs": [],
   "source": [
    "records = []\n",
    "scores = []\n",
    "for _ in range(int(input())):\n",
    "    name = input()\n",
    "    score = float(input())\n",
    "    records.append([name,score])\n",
    "    scores.append(score)\n",
    "scoreset = set(scores)\n",
    "unique_scores = list(scoreset)\n",
    "unique_scores.sort()\n",
    "stud = []\n",
    "for x in records:\n",
    "    if x[1] == unique_scores[1]:\n",
    "        stud.append(x[0])\n",
    "stud.sort()\n",
    "for i in range(len(stud)):\n",
    "    print(stud[i])"
   ]
  },
  {
   "cell_type": "markdown",
   "id": "41b84152",
   "metadata": {},
   "source": [
    "# Finding the percentage"
   ]
  },
  {
   "cell_type": "code",
   "execution_count": null,
   "id": "c1b44509",
   "metadata": {},
   "outputs": [],
   "source": [
    "n = int(input())\n",
    "student_marks = {}\n",
    "for _ in range(n):\n",
    "    name, *line = input().split()\n",
    "    scores = list(map(float, line))\n",
    "    student_marks[name] = scores\n",
    "query_name = input()\n",
    "mean = round(sum(student_marks[query_name])/len(student_marks[query_name]),2)\n",
    "print(\"{:.2f}\".format(mean))\n",
    "# tutorial was needed for the last line of code"
   ]
  },
  {
   "cell_type": "markdown",
   "id": "b6aee479",
   "metadata": {},
   "source": [
    "# Lists"
   ]
  },
  {
   "cell_type": "code",
   "execution_count": null,
   "id": "8de63505",
   "metadata": {},
   "outputs": [],
   "source": [
    "N = int(input())\n",
    "commands = []\n",
    "final = []\n",
    "for i in range(N):\n",
    "    commands.append(input())\n",
    "for x in commands:\n",
    "    comm = x.split()\n",
    "    if comm[0] == \"insert\":\n",
    "        final.insert(int(comm[1]),int(comm[2]))\n",
    "    elif comm[0] == \"print\":\n",
    "        print(final)\n",
    "    elif comm[0] == \"remove\":\n",
    "        final.remove(int(comm[1]))\n",
    "    elif comm[0] == \"append\":\n",
    "        final.append(int(comm[1]))\n",
    "    elif comm[0] == \"sort\":\n",
    "        final.sort()\n",
    "    elif comm[0] == \"pop\":\n",
    "        final.pop()\n",
    "    elif comm[0] == \"reverse\":\n",
    "        final.reverse()"
   ]
  },
  {
   "cell_type": "markdown",
   "id": "1f0387ef",
   "metadata": {},
   "source": [
    "# Tuples"
   ]
  },
  {
   "cell_type": "code",
   "execution_count": null,
   "id": "121877b3",
   "metadata": {},
   "outputs": [],
   "source": [
    "n = int(input())\n",
    "integer_list = map(int, input().split())\n",
    "tup = tuple(integer_list)\n",
    "print(hash(tup))"
   ]
  },
  {
   "cell_type": "markdown",
   "id": "a98d017a",
   "metadata": {},
   "source": [
    "# sWAP cASE"
   ]
  },
  {
   "cell_type": "code",
   "execution_count": null,
   "id": "9d3fcf55",
   "metadata": {},
   "outputs": [],
   "source": [
    "def swap_case(s):\n",
    "    final = \"\"\n",
    "    for i in range(len(s)):\n",
    "        if s[i] == s[i].upper():\n",
    "            final += s[i].lower()\n",
    "        elif s[i] == s[i].lower():\n",
    "            final += s[i].upper()\n",
    "    return final"
   ]
  },
  {
   "cell_type": "markdown",
   "id": "11c7a3c2",
   "metadata": {},
   "source": [
    "# String Split and Join"
   ]
  },
  {
   "cell_type": "code",
   "execution_count": null,
   "id": "d9690482",
   "metadata": {},
   "outputs": [],
   "source": [
    "def split_and_join(line):\n",
    "    line = line.split(\" \")\n",
    "    line = \"-\".join(line)\n",
    "    return line"
   ]
  },
  {
   "cell_type": "markdown",
   "id": "50d7ca72",
   "metadata": {},
   "source": [
    "# What's your name?"
   ]
  },
  {
   "cell_type": "code",
   "execution_count": null,
   "id": "19196544",
   "metadata": {},
   "outputs": [],
   "source": [
    "def print_full_name(first, last):\n",
    "    print(\"Hello\", first, last + \"! You just delved into python.\")"
   ]
  },
  {
   "cell_type": "markdown",
   "id": "a28c16c2",
   "metadata": {},
   "source": [
    "# Mutation"
   ]
  },
  {
   "cell_type": "code",
   "execution_count": null,
   "id": "7ba7fbbe",
   "metadata": {},
   "outputs": [],
   "source": [
    "def mutate_string(string, position, character):\n",
    "    l = list(string)\n",
    "    l[position] = character\n",
    "    return ''.join(l)"
   ]
  },
  {
   "cell_type": "markdown",
   "id": "229cf591",
   "metadata": {},
   "source": [
    "# Find a string"
   ]
  },
  {
   "cell_type": "code",
   "execution_count": null,
   "id": "17f418ac",
   "metadata": {},
   "outputs": [],
   "source": [
    "def count_substring(string, sub_string):\n",
    "    count = 0\n",
    "    for i in range(0, len(string)-len(sub_string)+1):\n",
    "        if sub_string in string[i:i+len(sub_string)]:\n",
    "            count += 1\n",
    "    return str(count)"
   ]
  },
  {
   "cell_type": "markdown",
   "id": "39b9800e",
   "metadata": {},
   "source": [
    "# String Validators"
   ]
  },
  {
   "cell_type": "code",
   "execution_count": null,
   "id": "21a12354",
   "metadata": {},
   "outputs": [],
   "source": [
    "s = input()\n",
    "print(any([x.isalnum() for x in s]))\n",
    "print(any([x.isalpha() for x in s]))\n",
    "print(any([x.isdigit() for x in s]))\n",
    "print(any([x.islower() for x in s]))\n",
    "print(any([x.isupper() for x in s]))"
   ]
  },
  {
   "cell_type": "markdown",
   "id": "aba5df79",
   "metadata": {},
   "source": [
    "# Text Alignment"
   ]
  },
  {
   "cell_type": "code",
   "execution_count": null,
   "id": "830b0766",
   "metadata": {},
   "outputs": [],
   "source": [
    "w = int(input())\n",
    "c = 'H'\n",
    "# higher arrow\n",
    "for i in range(1,w*2,2):\n",
    "    x = c*i\n",
    "    print(x.center(w*2, ' '))\n",
    "# higher body\n",
    "for i in range(1,w+2):\n",
    "    x = c*w\n",
    "    print(x.center(w*2, ' '), end = ' '*w*2)\n",
    "    print(x.center(w*2, ' '))\n",
    "# center belt\n",
    "for i in range(0,w,2):\n",
    "    x = c*w*5\n",
    "    print(x.center(w*6, ' '))\n",
    "# lower body\n",
    "for i in range(1,w+2):\n",
    "    x = c*w\n",
    "    print(x.center(w*2, ' '), end = ' '*w*2)\n",
    "    print(x.center(w*2, ' '))\n",
    "# lower arrow\n",
    "j = 1\n",
    "for i in range(w*2-1,0,-2):\n",
    "    x = c*i\n",
    "    print(x.rjust(w*6-j, ' '))\n",
    "    j += 1\n",
    "# I've searched for a little hint on the internet to solve it, \n",
    "# because the objective wasn't clear enough"
   ]
  },
  {
   "cell_type": "markdown",
   "id": "091b00fb",
   "metadata": {},
   "source": [
    "# Text Wrap"
   ]
  },
  {
   "cell_type": "code",
   "execution_count": null,
   "id": "a0189453",
   "metadata": {},
   "outputs": [],
   "source": [
    "def wrap(string, max_width):\n",
    "    l = list(string)\n",
    "    c=0\n",
    "    for i in range(len(l)):\n",
    "        if (i+1)%max_width == 0:\n",
    "            l.insert(i+c+1,\"\\n\")\n",
    "            c += 1\n",
    "    return ''.join(l)"
   ]
  },
  {
   "cell_type": "markdown",
   "id": "fa7790bf",
   "metadata": {},
   "source": [
    "# Designer door mat"
   ]
  },
  {
   "cell_type": "code",
   "execution_count": null,
   "id": "e52bfe39",
   "metadata": {},
   "outputs": [],
   "source": [
    "d = input()\n",
    "d = d.split()\n",
    "n =  int(d[0])\n",
    "m = int(d[1])\n",
    "h = '-'\n",
    "b = '|'\n",
    "p = '.'\n",
    "# top half\n",
    "for i in range(1,n//2+1):\n",
    "    x = p\n",
    "    for j in range(1,i*2):\n",
    "        x = x+b+p+p\n",
    "    x = x[:-1]\n",
    "    print(x.center(m,'-'))\n",
    "# welcome \n",
    "print('WELCOME'.center(m,'-'))\n",
    "# bottom half\n",
    "for i in range(n//2+1,1,-1):\n",
    "    x = p\n",
    "    for j in range(1,i*2-2):\n",
    "        x = x+b+p+p\n",
    "    x = x[:-1]\n",
    "    print(x.center(m,'-'))"
   ]
  },
  {
   "cell_type": "markdown",
   "id": "f76b9212",
   "metadata": {},
   "source": [
    "# String formatting"
   ]
  },
  {
   "cell_type": "code",
   "execution_count": null,
   "id": "748d6602",
   "metadata": {},
   "outputs": [],
   "source": [
    "def print_formatted(number):\n",
    "    w = len(bin(number).lstrip(\"0b\"))\n",
    "    for i in range(1,number+1):\n",
    "        print(str(i).rjust(w,' '), end = ' ')\n",
    "        print(str(oct(i)).lstrip(\"0o\").rjust(w,' '), end = ' ')\n",
    "        print(str(hex(i)).lstrip(\"0x\").upper().rjust(w,' '), end = ' ')\n",
    "        print(str(bin(i)).lstrip(\"0b\").rjust(w,' '))"
   ]
  },
  {
   "cell_type": "markdown",
   "id": "38fbd401",
   "metadata": {},
   "source": [
    "# Alphabet Rangoli"
   ]
  },
  {
   "cell_type": "code",
   "execution_count": null,
   "id": "7687f2d9",
   "metadata": {},
   "outputs": [],
   "source": [
    "def print_rangoli(size):\n",
    "    alph = ['a', 'b', 'c', 'd', 'e', 'f', 'g', 'h', 'i', 'j', 'k', 'l', 'm', 'n', 'o', 'p', 'q', 'r', 's', 't', 'u', 'v', 'w', 'x', 'y', 'z']\n",
    "    h = '-'\n",
    "    w = (size-1)*4 + 1\n",
    "    # top half\n",
    "    for i in range(1, size):\n",
    "        x = alph[size-1]\n",
    "        for j in range(1,i):\n",
    "            x = x+h+alph[size-j-1]\n",
    "        cut = x[:-1]\n",
    "        x = x + cut[::-1]\n",
    "        print(x.center(w,h))\n",
    "    # bottom half\n",
    "    for i in range(size, 0,-1):\n",
    "        x = alph[size-1]\n",
    "        for j in range(1,i):\n",
    "            x = x+h+alph[size-j-1]\n",
    "        cut = x[:-1]\n",
    "        x = x + cut[::-1]\n",
    "        print(x.center(w,h))"
   ]
  },
  {
   "cell_type": "markdown",
   "id": "801cf839",
   "metadata": {},
   "source": [
    "# Capitalize!"
   ]
  },
  {
   "cell_type": "code",
   "execution_count": null,
   "id": "373c577a",
   "metadata": {},
   "outputs": [],
   "source": [
    "def solve(s):\n",
    "    l = list(s)\n",
    "    l[0] = l[0].upper()\n",
    "    for i in range(1,len(l)):\n",
    "        if l[i-1].isspace() and (not l[i].isspace()):\n",
    "            l[i] = l[i].upper()\n",
    "    return ''.join(l)"
   ]
  },
  {
   "cell_type": "markdown",
   "id": "9f2b613f",
   "metadata": {},
   "source": [
    "# The Minion Game"
   ]
  },
  {
   "cell_type": "code",
   "execution_count": null,
   "id": "941de05b",
   "metadata": {},
   "outputs": [],
   "source": [
    "def minion_game(string):\n",
    "    vowels = ['A','E','I','O','U']\n",
    "    st_score = 0\n",
    "    kv_score = 0\n",
    "    for i in range(len(string)):\n",
    "        if string[i] in vowels:\n",
    "            # Adding as much points as are possible substrings starting from the i-th letter\n",
    "            kv_score += len(string)-i\n",
    "        else:\n",
    "            st_score += len(string)-i\n",
    "    if st_score > kv_score:\n",
    "        print('Stuart', str(st_score))\n",
    "    elif kv_score > st_score:\n",
    "        print('Kevin', str(kv_score))\n",
    "    else:\n",
    "        print('Draw')\n",
    "# Solution seen because the algorithm developed was too slow\n",
    "# for three tests (analyzing every substring)"
   ]
  },
  {
   "cell_type": "markdown",
   "id": "1248f776",
   "metadata": {},
   "source": [
    "# Merge the tools!"
   ]
  },
  {
   "cell_type": "code",
   "execution_count": null,
   "id": "af3a7c86",
   "metadata": {},
   "outputs": [],
   "source": [
    "def merge_the_tools(string, k):\n",
    "    for i in range(0,len(string)//k):\n",
    "        print(''.join(list(set(string[k*i:k*(i+1)]))))"
   ]
  },
  {
   "cell_type": "markdown",
   "id": "826ae70f",
   "metadata": {},
   "source": [
    "# Introduction to Sets"
   ]
  },
  {
   "cell_type": "code",
   "execution_count": null,
   "id": "aa87e38f",
   "metadata": {},
   "outputs": [],
   "source": [
    "def average(array):\n",
    "    h = set(array)\n",
    "    n = len(h)\n",
    "    return sum(h)/n"
   ]
  },
  {
   "cell_type": "markdown",
   "id": "bd703d12",
   "metadata": {},
   "source": [
    "# No Idea!"
   ]
  },
  {
   "cell_type": "code",
   "execution_count": null,
   "id": "ce99f490",
   "metadata": {},
   "outputs": [],
   "source": [
    "v = input()\n",
    "n = int(v.split()[0])\n",
    "m = int(v.split()[1])\n",
    "l = list(input().split())\n",
    "A = set(input().split())\n",
    "B = set(input().split())\n",
    "happ = 0\n",
    "for x in l:\n",
    "    if x in A:\n",
    "        happ += 1\n",
    "    elif x in B:\n",
    "        happ -= 1\n",
    "print(happ)"
   ]
  },
  {
   "cell_type": "markdown",
   "id": "3facb575",
   "metadata": {},
   "source": [
    "# Symmetric difference"
   ]
  },
  {
   "cell_type": "code",
   "execution_count": null,
   "id": "e6e14028",
   "metadata": {},
   "outputs": [],
   "source": [
    "m = int(input())\n",
    "sm = set(map(int, input().split()))\n",
    "n = int(input())\n",
    "sn = set(map(int, input().split()))\n",
    "union_mn = list(sm.union(sn))\n",
    "union_mn.sort()\n",
    "inters_mn = sm.intersection(sn)\n",
    "for i in range(len(union_mn)):\n",
    "    if union_mn[i] not in inters_mn:\n",
    "        print(str(union_mn[i]))"
   ]
  },
  {
   "cell_type": "markdown",
   "id": "b204ffd5",
   "metadata": {},
   "source": [
    "# Set .add()"
   ]
  },
  {
   "cell_type": "code",
   "execution_count": null,
   "id": "b40aa6ed",
   "metadata": {},
   "outputs": [],
   "source": [
    "n = int(input())\n",
    "countries = set()\n",
    "for i in range(n):\n",
    "    countries.add(input())\n",
    "print(len(countries))"
   ]
  },
  {
   "cell_type": "markdown",
   "id": "9523af18",
   "metadata": {},
   "source": [
    "# Set.discard(), .remove() & .pop()"
   ]
  },
  {
   "cell_type": "code",
   "execution_count": null,
   "id": "483eb36f",
   "metadata": {},
   "outputs": [],
   "source": [
    "n = int(input())\n",
    "s = set(map(int, input().split()))\n",
    "m = int(input())\n",
    "for i in range(m):\n",
    "    command = input().split()\n",
    "    if command[0] == 'remove' and int(command[1]) in s:\n",
    "        s.remove(int(command[1]))\n",
    "    elif command[0] == \"discard\":\n",
    "        s.discard(int(command[1]))\n",
    "    elif command[0] == \"pop\":\n",
    "        s.pop()\n",
    "print(sum(s))"
   ]
  },
  {
   "cell_type": "markdown",
   "id": "b658b761",
   "metadata": {},
   "source": [
    "# Set .union() operation"
   ]
  },
  {
   "cell_type": "code",
   "execution_count": null,
   "id": "1547ea40",
   "metadata": {},
   "outputs": [],
   "source": [
    "ne = int(input())\n",
    "e = set(map(int,input().split()))\n",
    "nf = int(input())\n",
    "f = set(map(int,input().split()))\n",
    "union_ef = e.union(f)\n",
    "print(len(union_ef))"
   ]
  },
  {
   "cell_type": "markdown",
   "id": "5451cbee",
   "metadata": {},
   "source": [
    "# Set .intersection() operation"
   ]
  },
  {
   "cell_type": "code",
   "execution_count": null,
   "id": "6f85f227",
   "metadata": {},
   "outputs": [],
   "source": [
    "ne = int(input())\n",
    "e = set(map(int,input().split()))\n",
    "nf = int(input())\n",
    "f = set(map(int,input().split()))\n",
    "inters_ef = e.intersection(f)\n",
    "print(len(inters_ef))"
   ]
  },
  {
   "cell_type": "markdown",
   "id": "59b6f20a",
   "metadata": {},
   "source": [
    "# Set .difference() operation"
   ]
  },
  {
   "cell_type": "code",
   "execution_count": null,
   "id": "60e00eb0",
   "metadata": {},
   "outputs": [],
   "source": [
    "ne = int(input())\n",
    "e = set(map(int,input().split()))\n",
    "nf = int(input())\n",
    "f = set(map(int,input().split()))\n",
    "diff_ef = e.difference(f)\n",
    "print(len(diff_ef))"
   ]
  },
  {
   "cell_type": "markdown",
   "id": "0cca4404",
   "metadata": {},
   "source": [
    "# Set .symmetric_difference() operation"
   ]
  },
  {
   "cell_type": "code",
   "execution_count": null,
   "id": "e74f3934",
   "metadata": {},
   "outputs": [],
   "source": [
    "ne = int(input())\n",
    "e = set(map(int,input().split()))\n",
    "nf = int(input())\n",
    "f = set(map(int,input().split()))\n",
    "sdiff_ef = e.symmetric_difference(f)\n",
    "print(len(sdiff_ef))"
   ]
  },
  {
   "cell_type": "markdown",
   "id": "0ab05a7a",
   "metadata": {},
   "source": [
    "# Set mutations"
   ]
  },
  {
   "cell_type": "code",
   "execution_count": null,
   "id": "5c29421a",
   "metadata": {},
   "outputs": [],
   "source": [
    "# you can use all set operations to mutate sets on place by adding \"_update\"\n",
    "na = int(input())\n",
    "a = set(map(int, input().split()))\n",
    "n = int(input())\n",
    "for i in range(1,(n*2)+1):\n",
    "    if i % 2 == 1:\n",
    "        command = input().split()[0]\n",
    "    else:\n",
    "        b = set(map(int, input().split()))\n",
    "        if command == \"intersection_update\":\n",
    "            a.intersection_update(b)\n",
    "        elif command == \"update\":\n",
    "            a.update(b)\n",
    "        elif command == \"symmetric_difference_update\":\n",
    "            a.symmetric_difference_update(b)\n",
    "        elif command == \"difference_update\":\n",
    "            a.difference_update(b)\n",
    "print(sum(a))"
   ]
  },
  {
   "cell_type": "markdown",
   "id": "482ae586",
   "metadata": {},
   "source": [
    "# The Captain's Room"
   ]
  },
  {
   "cell_type": "code",
   "execution_count": null,
   "id": "02be1ae6",
   "metadata": {},
   "outputs": [],
   "source": [
    "k = int(input())\n",
    "l = list(map(int,input().split()))\n",
    "s = set(l)\n",
    "d = [{\"name\":val, \"count\":0} for val in s]\n",
    "for i in range(len(l)):\n",
    "    for j in d:\n",
    "        if j[\"name\"] == l[i]:\n",
    "            j[\"count\"] += 1\n",
    "            if j[\"count\"] > 1:\n",
    "                d.remove(j)\n",
    "                if len(d) == 1:\n",
    "                    break\n",
    "    else:\n",
    "        continue\n",
    "    break\n",
    "print(d[0][\"name\"])"
   ]
  },
  {
   "cell_type": "markdown",
   "id": "9e67f2b5",
   "metadata": {},
   "source": [
    "# Check Subset"
   ]
  },
  {
   "cell_type": "code",
   "execution_count": null,
   "id": "8b04975f",
   "metadata": {},
   "outputs": [],
   "source": [
    "n = int(input())\n",
    "for i in range(n):\n",
    "    na = int(input())\n",
    "    a = set(map(int,input().split()))\n",
    "    nb = int(input())\n",
    "    b = set(map(int,input().split()))\n",
    "    if a.union(b) == b:\n",
    "        print(True)\n",
    "    else:\n",
    "        print(False)"
   ]
  },
  {
   "cell_type": "markdown",
   "id": "0b7bf4d6",
   "metadata": {},
   "source": [
    "# Check strict Superset"
   ]
  },
  {
   "cell_type": "code",
   "execution_count": null,
   "id": "79736853",
   "metadata": {},
   "outputs": [],
   "source": [
    "a = set(map(int,input().split()))\n",
    "n = int(input())\n",
    "print(all(a > set(map(int,input().split())) for i in range(n)))"
   ]
  },
  {
   "cell_type": "markdown",
   "id": "145d48d3",
   "metadata": {},
   "source": [
    "# collections.Counter()"
   ]
  },
  {
   "cell_type": "code",
   "execution_count": null,
   "id": "0c272813",
   "metadata": {},
   "outputs": [],
   "source": [
    "ns = int(input())\n",
    "c = list(map(int,input().split()))\n",
    "nc = int(input())\n",
    "earn = 0\n",
    "for i in range(nc):\n",
    "    order = list(map(int,input().split()))\n",
    "    if order[0] in l:\n",
    "        earn += order[1]\n",
    "        l.remove(order[0])\n",
    "print(earn)\n",
    "# Counter not actually needed to complete this exercise"
   ]
  },
  {
   "cell_type": "markdown",
   "id": "d240f452",
   "metadata": {},
   "source": [
    "# DefaultDict tutorial"
   ]
  },
  {
   "cell_type": "code",
   "execution_count": null,
   "id": "d295a8b9",
   "metadata": {},
   "outputs": [],
   "source": [
    "from collections import defaultdict\n",
    "\n",
    "d = defaultdict(list)\n",
    "nm = list(map(int,input().split()))\n",
    "n = nm[0]\n",
    "m = nm[1]\n",
    "for i in range(n):\n",
    "    word = input()\n",
    "    d[word].append(str(i+1))\n",
    "for j in range(m):\n",
    "    word = input()\n",
    "    print(' '.join(d[word]) if word in d else '-1')"
   ]
  },
  {
   "cell_type": "markdown",
   "id": "af54b63e",
   "metadata": {},
   "source": [
    "# collections.namedtuple()"
   ]
  },
  {
   "cell_type": "code",
   "execution_count": null,
   "id": "d0f0702f",
   "metadata": {},
   "outputs": [],
   "source": [
    "from collections import namedtuple\n",
    "\n",
    "n = int(input())\n",
    "student = namedtuple('student', ','.join(list(input().split())))\n",
    "total = 0\n",
    "for i in range(n):\n",
    "    data = list(input().split())\n",
    "    total += int(student(data[0],data[1],data[2],data[3]).MARKS)\n",
    "print(round(total/n,2))"
   ]
  },
  {
   "cell_type": "markdown",
   "id": "a89b6426",
   "metadata": {},
   "source": [
    "# collections.OrderedDict()"
   ]
  },
  {
   "cell_type": "code",
   "execution_count": null,
   "id": "d7bbf8fb",
   "metadata": {},
   "outputs": [],
   "source": [
    "from collections import OrderedDict\n",
    "from collections import Counter\n",
    "\n",
    "n = int(input())\n",
    "d1 = OrderedDict()\n",
    "names = []\n",
    "for i in range(n):\n",
    "    item = input()\n",
    "    word = item.rstrip(' 0123456789')\n",
    "    names.append(word)\n",
    "    price = int(item[len(word):])\n",
    "    d1[word] = price\n",
    "d2 = Counter(names)\n",
    "for k,v in d1.items():\n",
    "    v = v*d2[k]\n",
    "    print(k,v)"
   ]
  },
  {
   "cell_type": "markdown",
   "id": "dbb8de34",
   "metadata": {},
   "source": [
    "# Word Order"
   ]
  },
  {
   "cell_type": "code",
   "execution_count": null,
   "id": "d95819bc",
   "metadata": {},
   "outputs": [],
   "source": [
    "from collections import OrderedDict\n",
    "from collections import Counter\n",
    "\n",
    "n = int(input())\n",
    "d1 = OrderedDict()\n",
    "names = []\n",
    "for i in range(n):\n",
    "    word = input().rstrip('\\n')\n",
    "    names.append(word)\n",
    "    d1[word] = 0\n",
    "d2 = Counter(names)\n",
    "print(len(d2))\n",
    "for k,v in d1.items():\n",
    "    v = d2[k]\n",
    "    print(v, end = ' ')"
   ]
  },
  {
   "cell_type": "markdown",
   "id": "0918a848",
   "metadata": {},
   "source": [
    "# collections.deque()"
   ]
  },
  {
   "cell_type": "code",
   "execution_count": null,
   "id": "c3cfd63e",
   "metadata": {},
   "outputs": [],
   "source": [
    "from collections import deque\n",
    "\n",
    "d = deque()\n",
    "n = int(input())\n",
    "for i in range(n):\n",
    "    command = input().split()\n",
    "    if command[0] == 'append':\n",
    "        d.append(command[1])\n",
    "    elif command[0] == \"appendleft\":\n",
    "        d.appendleft(command[1])\n",
    "    elif command[0] == \"pop\":\n",
    "        d.pop()\n",
    "    elif command[0] == \"popleft\":\n",
    "        d.popleft()\n",
    "print(' '.join(d))"
   ]
  },
  {
   "cell_type": "markdown",
   "id": "9a3bd7ad",
   "metadata": {},
   "source": [
    "# Company Logo"
   ]
  },
  {
   "cell_type": "code",
   "execution_count": null,
   "id": "b0d4dfcc",
   "metadata": {},
   "outputs": [],
   "source": [
    "from collections import Counter\n",
    "from collections import deque\n",
    "\n",
    "s = input()\n",
    "c = Counter(s)\n",
    "l = sorted(list(c.items()), key=lambda x: (-x[1],x[0]))[:3]\n",
    "for k,v in l:\n",
    "    print(k,v)"
   ]
  },
  {
   "cell_type": "markdown",
   "id": "a82adcfd",
   "metadata": {},
   "source": [
    "# Piling Up!"
   ]
  },
  {
   "cell_type": "code",
   "execution_count": null,
   "id": "5b161a5b",
   "metadata": {},
   "outputs": [],
   "source": [
    "from collections import deque\n",
    "\n",
    "T = int(input())\n",
    "for i in range(T):\n",
    "    n = int(input())\n",
    "    d = deque(map(int,input().split()))\n",
    "    if d[0]>d[-1]:\n",
    "        last = d[0]\n",
    "        d.popleft()\n",
    "    else:\n",
    "        last = d[-1]\n",
    "        d.pop() \n",
    "    for j in range(n):\n",
    "        if len(d) == 0:\n",
    "            print('Yes')\n",
    "            break\n",
    "        else:\n",
    "            if d[0]<=last:\n",
    "                if d[-1]<=last:\n",
    "                    if d[0]>d[-1]:\n",
    "                        last = d[0]\n",
    "                        d.popleft()\n",
    "                        continue\n",
    "                    else:\n",
    "                        last = d[-1]\n",
    "                        d.pop()\n",
    "                        continue\n",
    "            if d[-1]<=last:\n",
    "                last = d[-1]\n",
    "                d.pop()\n",
    "            else:\n",
    "                print('No')\n",
    "                break\n",
    "# A bit long, surely optimizable"
   ]
  },
  {
   "cell_type": "markdown",
   "id": "d9d63904",
   "metadata": {},
   "source": [
    "# Calendar module"
   ]
  },
  {
   "cell_type": "code",
   "execution_count": null,
   "id": "e8a37050",
   "metadata": {},
   "outputs": [],
   "source": [
    "import calendar\n",
    "\n",
    "d = list(map(int,input().split()))\n",
    "strdays = ['MONDAY','TUESDAY','WEDNESDAY','THURSDAY','FRIDAY','SATURDAY','SUNDAY']\n",
    "print(strdays[calendar.weekday(d[2],d[0],d[1])])"
   ]
  },
  {
   "cell_type": "markdown",
   "id": "b7e4db76",
   "metadata": {},
   "source": [
    "# Time Delta"
   ]
  },
  {
   "cell_type": "code",
   "execution_count": null,
   "id": "1b53f461",
   "metadata": {},
   "outputs": [],
   "source": [
    "import calendar\n",
    "\n",
    "def time_delta(t1, t2):\n",
    "    t = [t1,t2]\n",
    "    time_sec = []\n",
    "    for x in t:\n",
    "        y = x.split()\n",
    "        day = int(y[1])\n",
    "        month = list(calendar.month_abbr).index(y[2])\n",
    "        year = int(y[3])\n",
    "        time = list(map(int,y[4].split(':')))\n",
    "        timezone = y[-1]\n",
    "        h = int(timezone[1:3])\n",
    "        m = int(timezone[3:5])\n",
    "        if timezone[0] == '+':\n",
    "            m = time[1]-m\n",
    "            if m<0:\n",
    "                m += 60\n",
    "                h += 1\n",
    "            h = time[0]-h\n",
    "        else:\n",
    "            m = time[1]+m\n",
    "            if m >= 60:\n",
    "                m -= 60\n",
    "                h += 1\n",
    "            h = time[0]+h\n",
    "        time_sec.append(calendar.timegm((year,month,day,h,m,time[2],None,None,0)))\n",
    "    return str(abs(time_sec[0]-time_sec[1]))"
   ]
  },
  {
   "cell_type": "markdown",
   "id": "5f8be58c",
   "metadata": {},
   "source": [
    "# Exceptions"
   ]
  },
  {
   "cell_type": "code",
   "execution_count": null,
   "id": "43677a86",
   "metadata": {},
   "outputs": [],
   "source": [
    "n = int(input())\n",
    "for i in range(n):\n",
    "    try:\n",
    "        l = list(map(int,input().split()))\n",
    "        a = l[0]\n",
    "        b = l[1]\n",
    "        print(a//b)\n",
    "    except ZeroDivisionError as e:\n",
    "        print('Error Code:',e)\n",
    "    except ValueError as e:\n",
    "        print('Error Code:',e)"
   ]
  },
  {
   "cell_type": "markdown",
   "id": "0318da8a",
   "metadata": {},
   "source": [
    "# Zipped"
   ]
  },
  {
   "cell_type": "code",
   "execution_count": null,
   "id": "526c70f9",
   "metadata": {},
   "outputs": [],
   "source": [
    "nx = list(map(int,input().split()))\n",
    "stud = nx[0]\n",
    "sub = nx[1]\n",
    "l = []\n",
    "for i in range(sub):\n",
    "    l += [list(map(float,input().split()))]\n",
    "votes = list(zip(*l))\n",
    "for i in range(len(votes)):\n",
    "    print(str(sum(votes[i])/sub))"
   ]
  },
  {
   "cell_type": "markdown",
   "id": "7576134c",
   "metadata": {},
   "source": [
    "# Athlete sort"
   ]
  },
  {
   "cell_type": "code",
   "execution_count": null,
   "id": "1548ca28",
   "metadata": {},
   "outputs": [],
   "source": [
    "if __name__ == '__main__':\n",
    "    nm = input().split()\n",
    "\n",
    "    n = int(nm[0])\n",
    "\n",
    "    m = int(nm[1])\n",
    "\n",
    "    arr = []\n",
    "\n",
    "    for _ in range(n):\n",
    "        arr.append(list(map(int, input().rstrip().split())))\n",
    "\n",
    "    k = int(input())\n",
    "    sort_arr = sorted(arr, key=lambda x: (x[k]))\n",
    "    for s in sort_arr:\n",
    "        for num in s:\n",
    "            print(num, end = ' ')\n",
    "        print('\\n', end = '')"
   ]
  },
  {
   "cell_type": "markdown",
   "id": "99e6dd5d",
   "metadata": {},
   "source": [
    "# ginortS"
   ]
  },
  {
   "cell_type": "code",
   "execution_count": null,
   "id": "6218639e",
   "metadata": {},
   "outputs": [],
   "source": [
    "s = input()\n",
    "low = []\n",
    "up = []\n",
    "odd = []\n",
    "even = []\n",
    "for c in s:\n",
    "    if c.islower():\n",
    "        low.append(c)\n",
    "    elif c.isupper():\n",
    "        up.append(c)\n",
    "    elif c.isdigit:\n",
    "        if int(c)%2 == 0:\n",
    "            even.append(int(c))\n",
    "        else:\n",
    "            odd.append(int(c))\n",
    "low.sort()\n",
    "up.sort()\n",
    "odd.sort()\n",
    "even.sort()\n",
    "print(''.join(low)+''.join(up)+''.join(map(str,odd))+''.join(map(str,even)))"
   ]
  },
  {
   "cell_type": "markdown",
   "id": "b4c4bd51",
   "metadata": {},
   "source": [
    "# Map and Lambda function"
   ]
  },
  {
   "cell_type": "code",
   "execution_count": null,
   "id": "95e732e3",
   "metadata": {},
   "outputs": [],
   "source": [
    "cube = lambda x: x**3\n",
    "\n",
    "def fibonacci(n):\n",
    "    if n == 0:\n",
    "        fib = []\n",
    "    elif n == 1:\n",
    "        fib = [0]\n",
    "    else:\n",
    "        fib = [0,1]\n",
    "        for i in range(n-2):\n",
    "            fib.append(fib[i]+fib[i+1])\n",
    "    return fib\n",
    "\n",
    "if __name__ == '__main__':\n",
    "    n = int(input())\n",
    "    print(list(map(cube, fibonacci(n))))\n",
    "# Also recursive solution is suitable"
   ]
  },
  {
   "cell_type": "markdown",
   "id": "07c502fc",
   "metadata": {},
   "source": [
    "# Detect floating point Number"
   ]
  },
  {
   "cell_type": "code",
   "execution_count": null,
   "id": "0ecb32fe",
   "metadata": {},
   "outputs": [],
   "source": [
    "import re\n",
    "for i in range(int(input())):\n",
    "    print(re.search(r'^([-\\+])?\\d*\\.\\d+$', input()) is not None)"
   ]
  },
  {
   "cell_type": "markdown",
   "id": "9c66ae6e",
   "metadata": {},
   "source": [
    "# Re.split()"
   ]
  },
  {
   "cell_type": "code",
   "execution_count": 1,
   "id": "4e08a584",
   "metadata": {},
   "outputs": [],
   "source": [
    "regex_pattern = r\",|\\.\""
   ]
  },
  {
   "cell_type": "markdown",
   "id": "f5ebf4e1",
   "metadata": {},
   "source": [
    "# Group(), Groups() & Groupdict()"
   ]
  },
  {
   "cell_type": "code",
   "execution_count": null,
   "id": "a40b1272",
   "metadata": {},
   "outputs": [],
   "source": [
    "import re\n",
    "v = re.findall(r\"([A-Za-z0-9])\\1+\",input())\n",
    "if v:\n",
    "    print(v[0])\n",
    "else:\n",
    "    print(-1)"
   ]
  },
  {
   "cell_type": "markdown",
   "id": "764abc3a",
   "metadata": {},
   "source": [
    "# Re.findall() & Re.finditer()"
   ]
  },
  {
   "cell_type": "code",
   "execution_count": null,
   "id": "3de95f3f",
   "metadata": {},
   "outputs": [],
   "source": [
    "import re\n",
    "voc = \"aeiou\"\n",
    "cons = \"qwrtypsdfghjklzxcvbnm\"\n",
    "m = re.findall(r\"(?<=[%s])([%s]{2,})[%s]\" % (cons, voc, cons), input(), flags = re.I)\n",
    "print('\\n'.join(m or ['-1']))"
   ]
  },
  {
   "cell_type": "markdown",
   "id": "3ba5d288",
   "metadata": {},
   "source": [
    "# Re.start() & Re.end()"
   ]
  },
  {
   "cell_type": "code",
   "execution_count": null,
   "id": "3063acc4",
   "metadata": {},
   "outputs": [],
   "source": [
    "import re\n",
    "\n",
    "s = input()\n",
    "k = input()\n",
    "\n",
    "pattern = re.compile(k)\n",
    "r = pattern.search(s)\n",
    "if not r: print(\"(-1, -1)\")\n",
    "while r:\n",
    "    print(\"({0}, {1})\".format(r.start(), r.end() - 1))\n",
    "    r = pattern.search(s,r.start() + 1)"
   ]
  },
  {
   "cell_type": "markdown",
   "id": "177564d4",
   "metadata": {},
   "source": [
    "# Regex Substitution"
   ]
  },
  {
   "cell_type": "code",
   "execution_count": null,
   "id": "9f28f1b4",
   "metadata": {},
   "outputs": [],
   "source": [
    "import re\n",
    "\n",
    "n = int(input())\n",
    "\n",
    "for i in range(0,n):\n",
    "   s = input()\n",
    "   s = re.sub(r\"\\ \\&\\&\\ \",\" and \",s)\n",
    "   s = re.sub(r\"\\ \\|\\|\\ \",\" or \",s)\n",
    "   s = re.sub(r\"\\ \\&\\&\\ \",\" and \",s)\n",
    "   s = re.sub(r\"\\ \\|\\|\\ \",\" or \",s)\n",
    "   print(s)"
   ]
  },
  {
   "cell_type": "markdown",
   "id": "b3cf247b",
   "metadata": {},
   "source": [
    "# Validating Roman Numerals"
   ]
  },
  {
   "cell_type": "code",
   "execution_count": null,
   "id": "ecd08ae0",
   "metadata": {},
   "outputs": [],
   "source": [
    "m = 'M{0,3}'\n",
    "h = '(C[MD]|D?C{0,3})'\n",
    "t = '(X[CL]|L?X{0,3})'\n",
    "d = '(I[VX]|V?I{0,3})'\n",
    "regex_pattern = r\"%s%s%s%s$\" % (m, h, t, d)   # Do not delete 'r'"
   ]
  },
  {
   "cell_type": "markdown",
   "id": "9ad3e1ec",
   "metadata": {},
   "source": [
    "# Validating Phone Numbers"
   ]
  },
  {
   "cell_type": "code",
   "execution_count": null,
   "id": "5e5070af",
   "metadata": {},
   "outputs": [],
   "source": [
    "import re\n",
    "for i in range(int(input())):\n",
    "    if re.match(r'[789]\\d{9}$',input()):   \n",
    "        print('YES')  \n",
    "    else:  \n",
    "        print('NO')"
   ]
  },
  {
   "cell_type": "markdown",
   "id": "b6b5dd71",
   "metadata": {},
   "source": [
    "# Validating and Parsing Email addresses"
   ]
  },
  {
   "cell_type": "code",
   "execution_count": null,
   "id": "0ed04cf0",
   "metadata": {},
   "outputs": [],
   "source": [
    "import re\n",
    "n = int(input())\n",
    "for _ in range(n):\n",
    "    a, b = input().split(' ')\n",
    "    m = re.match(r'<[A-Za-z](\\w|-|\\.|_)+@[A-Za-z]+\\.[A-Za-z]{1,3}>', b)\n",
    "    if m:\n",
    "        print(a,b)"
   ]
  },
  {
   "cell_type": "markdown",
   "id": "5a781306",
   "metadata": {},
   "source": [
    "# Hex Color Code"
   ]
  },
  {
   "cell_type": "code",
   "execution_count": null,
   "id": "341f5b8c",
   "metadata": {},
   "outputs": [],
   "source": [
    "import re\n",
    "n=int(input())\n",
    "\n",
    "for i in range(0,n):\n",
    "    s=input()\n",
    "\n",
    "    x=s.split()\n",
    "\n",
    "    if len(x)>1  and  '{' not in x:\n",
    "        x=re.findall(r'#[a-fA-F0-9]{3,6}',s)\n",
    "        [print(i) for  i in x]"
   ]
  },
  {
   "cell_type": "markdown",
   "id": "542d7b18",
   "metadata": {},
   "source": [
    "# HTML Parser - Part 1"
   ]
  },
  {
   "cell_type": "code",
   "execution_count": null,
   "id": "dfda17cd",
   "metadata": {},
   "outputs": [],
   "source": [
    "from html.parser import HTMLParser\n",
    "class Custom_HTMLParser(HTMLParser):\n",
    "    def handle_starttag(self, tag, attrs):        \n",
    "        print ('Start :',tag)\n",
    "        for ele in attrs:\n",
    "            print ('->',ele[0],'>',ele[1])\n",
    "            \n",
    "    def handle_endtag(self, tag):\n",
    "        print ('End   :',tag)\n",
    "        \n",
    "    def handle_startendtag(self, tag, attrs):\n",
    "        print ('Empty :',tag)\n",
    "        for ele in attrs:\n",
    "            print ('->',ele[0],'>',ele[1])\n",
    "            \n",
    "parser = Custom_HTMLParser()\n",
    "parser.feed(''.join([input().strip() for _ in range(int(input()))]))"
   ]
  },
  {
   "cell_type": "markdown",
   "id": "98c43684",
   "metadata": {},
   "source": [
    "# HTML Parser - Part 2"
   ]
  },
  {
   "cell_type": "code",
   "execution_count": null,
   "id": "43f8f4b4",
   "metadata": {},
   "outputs": [],
   "source": [
    "from html.parser import HTMLParser\n",
    "html = \"\"\n",
    "class MyHTMLParser(HTMLParser):\n",
    "    def handle_comment(self,data):\n",
    "        if('\\n' in data):\n",
    "            print(\">>> Multi-line Comment\")\n",
    "        else:\n",
    "            print(\">>> Single-line Comment\")\n",
    "        print(data)\n",
    "    def handle_data(self,data):\n",
    "        if(data != '\\n'):\n",
    "            print(\">>> Data\")\n",
    "            print(data)\n",
    "             \n",
    "for i in range(int(input())):\n",
    "    html += input().rstrip()\n",
    "    html += '\\n'\n",
    "#print(html)    \n",
    "parser = MyHTMLParser()\n",
    "parser.feed(html)\n",
    "parser.close()"
   ]
  },
  {
   "cell_type": "markdown",
   "id": "86d5ac81",
   "metadata": {},
   "source": [
    "# Detect HTML Tags, Attributes and Attribute Values"
   ]
  },
  {
   "cell_type": "code",
   "execution_count": null,
   "id": "5b1eb806",
   "metadata": {},
   "outputs": [],
   "source": [
    "from html.parser import HTMLParser\n",
    "class Custom_HTMLParser(HTMLParser):\n",
    "    def handle_starttag(self, tag, attrs):\n",
    "        print(tag)\n",
    "        [print('-> {} > {}'.format(*attr)) for attr in attrs]\n",
    "        \n",
    "html = '\\n'.join([input() for _ in range(int(input()))])\n",
    "parser = Custom_HTMLParser()\n",
    "parser.feed(html)\n",
    "parser.close()"
   ]
  },
  {
   "cell_type": "markdown",
   "id": "105d83f1",
   "metadata": {},
   "source": [
    "# Validating UID"
   ]
  },
  {
   "cell_type": "code",
   "execution_count": null,
   "id": "b9ff8b89",
   "metadata": {},
   "outputs": [],
   "source": [
    "import re\n",
    "\n",
    "t = int(input())\n",
    "\n",
    "for i in range(t):\n",
    "    s = ''.join(sorted(input()))\n",
    "    try:\n",
    "        assert re.search(r'[A-Z]{2}', s)\n",
    "        assert re.search(r'\\d\\d\\d', s)\n",
    "        assert not re.search(r'[^a-zA-Z0-9]', s)\n",
    "        assert not re.search(r'(.)\\1', s)\n",
    "        assert len(s) == 10\n",
    "    except:\n",
    "        print('Invalid')\n",
    "    else:\n",
    "        print('Valid')"
   ]
  },
  {
   "cell_type": "markdown",
   "id": "377ae265",
   "metadata": {},
   "source": [
    "# Validating Credit Card Numbers"
   ]
  },
  {
   "cell_type": "code",
   "execution_count": null,
   "id": "02a0c867",
   "metadata": {},
   "outputs": [],
   "source": [
    "import re\n",
    "\n",
    "n = int(input().strip())\n",
    "\n",
    "tests = re.compile(\n",
    "    r\"^\"\n",
    "    r\"(?!.*(\\d)(-?\\1){3})\"\n",
    "    r\"[456]\"\n",
    "    r\"\\d{3}\"\n",
    "    r\"(?:-?\\d{4}){3}\"\n",
    "    r\"$\")\n",
    "    \n",
    "for i in range(n):\n",
    "    print(\"Valid\" if tests.search(input().strip()) else \"Invalid\")"
   ]
  },
  {
   "cell_type": "markdown",
   "id": "c83b27a9",
   "metadata": {},
   "source": [
    "# Validating Postal Codes"
   ]
  },
  {
   "cell_type": "code",
   "execution_count": null,
   "id": "531fa10a",
   "metadata": {},
   "outputs": [],
   "source": [
    "regex_integer_in_range = r\"^[1-9]\\d{5}$\"\t# Do not delete 'r'.\n",
    "regex_alternating_repetitive_digit_pair = r\"(\\d)(?=\\d\\1)\"\t# Do not delete 'r'."
   ]
  },
  {
   "cell_type": "markdown",
   "id": "e243e313",
   "metadata": {},
   "source": [
    "# Matrix Script"
   ]
  },
  {
   "cell_type": "code",
   "execution_count": null,
   "id": "52cb1d5a",
   "metadata": {},
   "outputs": [],
   "source": [
    "enc_str = \"\".join([matrix[j][i] for i in range(m) for j in range(n)])\n",
    "p = r'(?<=[a-zA-Z0-9])[^a-zA-Z0-9]+(?=[a-zA-Z0-9])'\n",
    "print(re.sub(p,' ',enc_str))"
   ]
  },
  {
   "cell_type": "markdown",
   "id": "35baafe8",
   "metadata": {},
   "source": [
    "# XML 1 - Find the Score"
   ]
  },
  {
   "cell_type": "code",
   "execution_count": null,
   "id": "23df3aab",
   "metadata": {},
   "outputs": [],
   "source": [
    "def get_attr_number(node):\n",
    "    return sum(len(e.attrib) for e in node.iter())"
   ]
  },
  {
   "cell_type": "markdown",
   "id": "46cd4cba",
   "metadata": {},
   "source": [
    "# XML 2 - Find the Maximum Depth"
   ]
  },
  {
   "cell_type": "code",
   "execution_count": null,
   "id": "423a006f",
   "metadata": {},
   "outputs": [],
   "source": [
    "def depth(elem, level):\n",
    "    global maxdepth\n",
    "    level += 1\n",
    "    if level > maxdepth:\n",
    "        maxdepth = level\n",
    "    for child in elem:\n",
    "        depth(child, level)"
   ]
  },
  {
   "cell_type": "markdown",
   "id": "7977e686",
   "metadata": {},
   "source": [
    "# Standardize mobile number using Decorators"
   ]
  },
  {
   "cell_type": "code",
   "execution_count": null,
   "id": "e4f2107a",
   "metadata": {},
   "outputs": [],
   "source": [
    "def wrapper(f):\n",
    "    def fun(l):\n",
    "        f([\"+91 \"+c[-10:-5]+\" \"+c[-5:] for c in l])\n",
    "    return fun"
   ]
  },
  {
   "cell_type": "markdown",
   "id": "d442f5bf",
   "metadata": {},
   "source": [
    "# Decorators 2 - Name Directory"
   ]
  },
  {
   "cell_type": "code",
   "execution_count": null,
   "id": "d65beefc",
   "metadata": {},
   "outputs": [],
   "source": [
    "def person_lister(f):\n",
    "    def inner(people):\n",
    "        return map(f, sorted(people, key=lambda x: int(x[2])))\n",
    "    return inner"
   ]
  },
  {
   "cell_type": "markdown",
   "id": "83847366",
   "metadata": {},
   "source": [
    "# Arrays"
   ]
  },
  {
   "cell_type": "code",
   "execution_count": null,
   "id": "ae29889f",
   "metadata": {},
   "outputs": [],
   "source": [
    "def arrays(arr):\n",
    "    return(numpy.array(arr[::-1], float))"
   ]
  },
  {
   "cell_type": "markdown",
   "id": "9d2db948",
   "metadata": {},
   "source": [
    "# Shape and Reshape"
   ]
  },
  {
   "cell_type": "code",
   "execution_count": null,
   "id": "f6a1ef70",
   "metadata": {},
   "outputs": [],
   "source": [
    "import numpy\n",
    "\n",
    "print(numpy.array(input().split(),int).reshape(3,3))"
   ]
  },
  {
   "cell_type": "markdown",
   "id": "6fb0a79d",
   "metadata": {},
   "source": [
    "# Transpose and Flatten"
   ]
  },
  {
   "cell_type": "code",
   "execution_count": null,
   "id": "90118fa0",
   "metadata": {},
   "outputs": [],
   "source": [
    "import numpy\n",
    "n, m = map(int, input().split())\n",
    "array = numpy.array([input().strip().split() for _ in range(n)], int)\n",
    "print (array.transpose())\n",
    "print (array.flatten())"
   ]
  },
  {
   "cell_type": "markdown",
   "id": "bca1404d",
   "metadata": {},
   "source": [
    "# Concatenate"
   ]
  },
  {
   "cell_type": "code",
   "execution_count": null,
   "id": "0c5063ef",
   "metadata": {},
   "outputs": [],
   "source": [
    "import numpy as np\n",
    "a, b, c = map(int,input().split())\n",
    "arr_a = np.array([input().split() for _ in range(a)],int)\n",
    "arr_b = np.array([input().split() for _ in range(b)],int)\n",
    "print(np.concatenate((arr_a, arr_b), axis = 0))"
   ]
  },
  {
   "cell_type": "markdown",
   "id": "fe8d6c60",
   "metadata": {},
   "source": [
    "# Zeros and Ones"
   ]
  },
  {
   "cell_type": "code",
   "execution_count": null,
   "id": "d15e0291",
   "metadata": {},
   "outputs": [],
   "source": [
    "import numpy as np\n",
    "nums = tuple(map(int, input().split()))\n",
    "print (np.zeros(nums, dtype = numpy.int64))\n",
    "print (np.ones(nums, dtype = numpy.int64))"
   ]
  },
  {
   "cell_type": "markdown",
   "id": "2ce5e51c",
   "metadata": {},
   "source": [
    "# Eye and Identity"
   ]
  },
  {
   "cell_type": "code",
   "execution_count": null,
   "id": "c3616d3b",
   "metadata": {},
   "outputs": [],
   "source": [
    "import numpy as np\n",
    "print(str(np.eye(*map(int,input().split()))).replace('1',' 1').replace('0',' 0'))"
   ]
  },
  {
   "cell_type": "markdown",
   "id": "5256c67d",
   "metadata": {},
   "source": [
    "# Array Mathematics"
   ]
  },
  {
   "cell_type": "code",
   "execution_count": null,
   "id": "0fc03a38",
   "metadata": {},
   "outputs": [],
   "source": [
    "import numpy as np\n",
    "n, m = map(int, input().split())\n",
    "a, b = (np.array([input().split() for _ in range(n)], dtype=int) for _ in range(2))\n",
    "print(a+b, a-b, a*b, a//b, a%b, a**b, sep='\\n')"
   ]
  },
  {
   "cell_type": "markdown",
   "id": "7f349947",
   "metadata": {},
   "source": [
    "# Floor, Ceil and Rint"
   ]
  },
  {
   "cell_type": "code",
   "execution_count": null,
   "id": "4fee5eda",
   "metadata": {},
   "outputs": [],
   "source": [
    "import numpy as np\n",
    "\n",
    "np.set_printoptions(sign=' ')\n",
    "\n",
    "n = np.array(input().split(),float)\n",
    "\n",
    "print(np.floor(n))\n",
    "print(np.ceil(n))\n",
    "print(np.rint(n))"
   ]
  },
  {
   "cell_type": "markdown",
   "id": "967921d8",
   "metadata": {},
   "source": [
    "# Sum and Prod"
   ]
  },
  {
   "cell_type": "code",
   "execution_count": null,
   "id": "cb723193",
   "metadata": {},
   "outputs": [],
   "source": [
    "import numpy as np\n",
    "n, p = map(int, input().split())\n",
    "arr = np.array([input().split() for _ in range(n)],int)\n",
    "print(np.prod(np.sum(arr, axis=0), axis=0))"
   ]
  },
  {
   "cell_type": "markdown",
   "id": "49c88c24",
   "metadata": {},
   "source": [
    "# Min and Max"
   ]
  },
  {
   "cell_type": "code",
   "execution_count": null,
   "id": "b15d0b92",
   "metadata": {},
   "outputs": [],
   "source": [
    "import numpy as np\n",
    "\n",
    "n,m=map(int,input().split())\n",
    "\n",
    "arr=np.array([list(map(int,input().split())) for i in range(n)])\n",
    "\n",
    "print(max(np.min(arr,axis=1)))"
   ]
  },
  {
   "cell_type": "markdown",
   "id": "579394ce",
   "metadata": {},
   "source": [
    "# Mean, Var and Std"
   ]
  },
  {
   "cell_type": "code",
   "execution_count": null,
   "id": "e43c86b8",
   "metadata": {},
   "outputs": [],
   "source": [
    "from numpy import mean, var, std\n",
    "\n",
    "n, m = map(int, input().split())\n",
    "a = []\n",
    "\n",
    "for i in range(n):\n",
    "    a.append(list(map(int, input().split())))\n",
    "\n",
    "print(mean(a, axis=1))\n",
    "print(var(a, axis=0))\n",
    "print(round(std(a, axis=None), 11))"
   ]
  },
  {
   "cell_type": "markdown",
   "id": "df00415d",
   "metadata": {},
   "source": [
    "# Dot and Cross"
   ]
  },
  {
   "cell_type": "code",
   "execution_count": null,
   "id": "3e5b57b3",
   "metadata": {},
   "outputs": [],
   "source": [
    "import numpy as np\n",
    "n=int(input())\n",
    "a = np.array([input().split() for _ in range(n)],int)\n",
    "b = np.array([input().split() for _ in range(n)],int)\n",
    "print(np.dot(a,b))"
   ]
  },
  {
   "cell_type": "markdown",
   "id": "8a5ed477",
   "metadata": {},
   "source": [
    "# Inner and Outer"
   ]
  },
  {
   "cell_type": "code",
   "execution_count": null,
   "id": "f6948627",
   "metadata": {},
   "outputs": [],
   "source": [
    "import numpy as np\n",
    "A = np.array(input().split(), int)\n",
    "B = np.array(input().split(), int)\n",
    "print(np.inner(A,B), np.outer(A,B), sep='\\n')"
   ]
  },
  {
   "cell_type": "markdown",
   "id": "e1a9168f",
   "metadata": {},
   "source": [
    "# Polynomials"
   ]
  },
  {
   "cell_type": "code",
   "execution_count": null,
   "id": "0a50f2ad",
   "metadata": {},
   "outputs": [],
   "source": [
    "import numpy as np\n",
    "n = list(map(float,input().split()));\n",
    "m = input();\n",
    "print(np.polyval(n,int(m)));"
   ]
  },
  {
   "cell_type": "markdown",
   "id": "6958cfd8",
   "metadata": {},
   "source": [
    "# Linear Algebra"
   ]
  },
  {
   "cell_type": "code",
   "execution_count": null,
   "id": "ca5adfa4",
   "metadata": {},
   "outputs": [],
   "source": [
    "import numpy as np\n",
    "n=int(input())\n",
    "a=np.array([input().split() for _ in range(n)],float)\n",
    "np.set_printoptions(legacy='1.13')\n",
    "print(np.linalg.det(a))\n",
    "# Had some problems with it, had to set \"np printoptions\""
   ]
  }
 ],
 "metadata": {
  "kernelspec": {
   "display_name": "Python 3 (ipykernel)",
   "language": "python",
   "name": "python3"
  },
  "language_info": {
   "codemirror_mode": {
    "name": "ipython",
    "version": 3
   },
   "file_extension": ".py",
   "mimetype": "text/x-python",
   "name": "python",
   "nbconvert_exporter": "python",
   "pygments_lexer": "ipython3",
   "version": "3.9.18"
  }
 },
 "nbformat": 4,
 "nbformat_minor": 5
}
