{
 "cells": [
  {
   "cell_type": "markdown",
   "id": "5dbe48eb",
   "metadata": {},
   "source": [
    "# Birthday Cake Candles"
   ]
  },
  {
   "cell_type": "code",
   "execution_count": null,
   "id": "f485990c",
   "metadata": {},
   "outputs": [],
   "source": [
    "def birthdayCakeCandles(candles):\n",
    "    c = 0\n",
    "    temp = candles[0]\n",
    "    for i in range(1,len(candles)):\n",
    "        if candles[i] > temp:\n",
    "            temp = candles[i]\n",
    "    for i in range(0,len(candles)):\n",
    "        if candles[i] == temp:\n",
    "            c = c + 1\n",
    "    return c"
   ]
  },
  {
   "cell_type": "markdown",
   "id": "bb5305fd",
   "metadata": {},
   "source": [
    "# Number Line Jumps"
   ]
  },
  {
   "cell_type": "code",
   "execution_count": null,
   "id": "cb840ac5",
   "metadata": {},
   "outputs": [],
   "source": [
    "def kangaroo(x1, v1, x2, v2):\n",
    "    if x1 < x2 and v1 < v2:\n",
    "        return 'NO'    \n",
    "    else:\n",
    "        if v1!=v2 and (x2-x1)%(v2-v1)==0:\n",
    "            return 'YES' \n",
    "        else:\n",
    "            return 'NO'"
   ]
  },
  {
   "cell_type": "markdown",
   "id": "a3f34d90",
   "metadata": {},
   "source": [
    "# Viral Advertising"
   ]
  },
  {
   "cell_type": "code",
   "execution_count": null,
   "id": "4136548e",
   "metadata": {},
   "outputs": [],
   "source": [
    "def viralAdvertising(n):\n",
    "    s =5\n",
    "    c=0\n",
    "    for i in range(1,n+1):\n",
    "        l = s//2\n",
    "        c+=l\n",
    "        s = l*3\n",
    "    return c"
   ]
  },
  {
   "cell_type": "markdown",
   "id": "63a0866e",
   "metadata": {},
   "source": [
    "# Recursive Digit Sum"
   ]
  },
  {
   "cell_type": "code",
   "execution_count": null,
   "id": "6d47730b",
   "metadata": {},
   "outputs": [],
   "source": [
    "def superDigit(n, k):\n",
    "    return 1 + (k * sum(int(x) for x in n) - 1) % 9"
   ]
  },
  {
   "cell_type": "markdown",
   "id": "b504e082",
   "metadata": {},
   "source": [
    "# Insertion Sort - Part 1"
   ]
  },
  {
   "cell_type": "code",
   "execution_count": null,
   "id": "53cec5cc",
   "metadata": {},
   "outputs": [],
   "source": [
    "def insertionSort1(n, arr):\n",
    "    t = arr[-1]\n",
    "    idx = n-2\n",
    "    while (t < arr[idx]) and (idx >= 0):\n",
    "        arr[idx+1] = arr[idx]\n",
    "        print(*arr)\n",
    "        idx -= 1\n",
    "    arr[idx+1] = t\n",
    "    print(*arr)"
   ]
  },
  {
   "cell_type": "markdown",
   "id": "4afd1a5e",
   "metadata": {},
   "source": [
    "# Insertion Sort - Part 2"
   ]
  },
  {
   "cell_type": "code",
   "execution_count": null,
   "id": "7b1fe096",
   "metadata": {},
   "outputs": [],
   "source": [
    "# CAN'T SOLVE IT"
   ]
  }
 ],
 "metadata": {
  "kernelspec": {
   "display_name": "Python 3 (ipykernel)",
   "language": "python",
   "name": "python3"
  },
  "language_info": {
   "codemirror_mode": {
    "name": "ipython",
    "version": 3
   },
   "file_extension": ".py",
   "mimetype": "text/x-python",
   "name": "python",
   "nbconvert_exporter": "python",
   "pygments_lexer": "ipython3",
   "version": "3.9.18"
  }
 },
 "nbformat": 4,
 "nbformat_minor": 5
}
